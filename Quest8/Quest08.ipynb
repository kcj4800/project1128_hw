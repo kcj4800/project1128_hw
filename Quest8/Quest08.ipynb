{
 "cells": [
  {
   "cell_type": "markdown",
   "id": "c0dfc4ab",
   "metadata": {},
   "source": [
    "<h2>프로젝트: 한국어 데이터로 챗봇 만들기</h2>"
   ]
  },
  {
   "cell_type": "markdown",
   "id": "ad05907c",
   "metadata": {},
   "source": [
    "<h3>프로젝트 목표</h3>"
   ]
  },
  {
   "cell_type": "markdown",
   "id": "23a474fa",
   "metadata": {},
   "source": [
    "1. 한국어 전처리를 통해 학습 데이터셋을 구축하였다\n",
    "2. 트랜스포머 모델을 구현하여 한국어 챗봇 모델 학습을 정상적으로 진행하였다\n",
    "3. 한국어 입력문장에 대해 한국어로 답변하는 함수를 구현하였다"
   ]
  },
  {
   "cell_type": "markdown",
   "id": "462e28e0",
   "metadata": {},
   "source": [
    "<h2>01.데이터 다운로드</h2>"
   ]
  },
  {
   "cell_type": "code",
   "execution_count": 2,
   "id": "c577eda2",
   "metadata": {},
   "outputs": [],
   "source": [
    "import tensorflow as tf\n",
    "import tensorflow_datasets as tfds\n",
    "import os\n",
    "import re\n",
    "import numpy as np\n",
    "import matplotlib.pyplot as plt\n",
    "import pandas as pd"
   ]
  },
  {
   "cell_type": "code",
   "execution_count": 3,
   "id": "0a20dee3",
   "metadata": {},
   "outputs": [
    {
     "data": {
      "text/plain": [
       "'transformer_chatbot/data/ChatbotData .csv'"
      ]
     },
     "execution_count": 3,
     "metadata": {},
     "output_type": "execute_result"
    }
   ],
   "source": [
    "file_path = 'transformer_chatbot/data/ChatbotData .csv'\n",
    "file_path"
   ]
  },
  {
   "cell_type": "code",
   "execution_count": 4,
   "id": "0cc3aaee",
   "metadata": {},
   "outputs": [
    {
     "data": {
      "text/html": [
       "<div>\n",
       "<style scoped>\n",
       "    .dataframe tbody tr th:only-of-type {\n",
       "        vertical-align: middle;\n",
       "    }\n",
       "\n",
       "    .dataframe tbody tr th {\n",
       "        vertical-align: top;\n",
       "    }\n",
       "\n",
       "    .dataframe thead th {\n",
       "        text-align: right;\n",
       "    }\n",
       "</style>\n",
       "<table border=\"1\" class=\"dataframe\">\n",
       "  <thead>\n",
       "    <tr style=\"text-align: right;\">\n",
       "      <th></th>\n",
       "      <th>Q</th>\n",
       "      <th>A</th>\n",
       "      <th>label</th>\n",
       "    </tr>\n",
       "  </thead>\n",
       "  <tbody>\n",
       "    <tr>\n",
       "      <th>0</th>\n",
       "      <td>12시 땡!</td>\n",
       "      <td>하루가 또 가네요.</td>\n",
       "      <td>0</td>\n",
       "    </tr>\n",
       "    <tr>\n",
       "      <th>1</th>\n",
       "      <td>1지망 학교 떨어졌어</td>\n",
       "      <td>위로해 드립니다.</td>\n",
       "      <td>0</td>\n",
       "    </tr>\n",
       "    <tr>\n",
       "      <th>2</th>\n",
       "      <td>3박4일 놀러가고 싶다</td>\n",
       "      <td>여행은 언제나 좋죠.</td>\n",
       "      <td>0</td>\n",
       "    </tr>\n",
       "    <tr>\n",
       "      <th>3</th>\n",
       "      <td>3박4일 정도 놀러가고 싶다</td>\n",
       "      <td>여행은 언제나 좋죠.</td>\n",
       "      <td>0</td>\n",
       "    </tr>\n",
       "    <tr>\n",
       "      <th>4</th>\n",
       "      <td>PPL 심하네</td>\n",
       "      <td>눈살이 찌푸려지죠.</td>\n",
       "      <td>0</td>\n",
       "    </tr>\n",
       "  </tbody>\n",
       "</table>\n",
       "</div>"
      ],
      "text/plain": [
       "                 Q            A  label\n",
       "0           12시 땡!   하루가 또 가네요.      0\n",
       "1      1지망 학교 떨어졌어    위로해 드립니다.      0\n",
       "2     3박4일 놀러가고 싶다  여행은 언제나 좋죠.      0\n",
       "3  3박4일 정도 놀러가고 싶다  여행은 언제나 좋죠.      0\n",
       "4          PPL 심하네   눈살이 찌푸려지죠.      0"
      ]
     },
     "execution_count": 4,
     "metadata": {},
     "output_type": "execute_result"
    }
   ],
   "source": [
    "data = pd.read_csv(file_path)\n",
    "data.head()"
   ]
  },
  {
   "cell_type": "code",
   "execution_count": 5,
   "id": "53ecce54",
   "metadata": {},
   "outputs": [
    {
     "data": {
      "text/plain": [
       "11823"
      ]
     },
     "execution_count": 5,
     "metadata": {},
     "output_type": "execute_result"
    }
   ],
   "source": [
    "len(data)"
   ]
  },
  {
   "cell_type": "markdown",
   "id": "6a0c3ff4",
   "metadata": {},
   "source": [
    "<h3>결측치 확인</h3>"
   ]
  },
  {
   "cell_type": "code",
   "execution_count": 6,
   "id": "2ef24860",
   "metadata": {},
   "outputs": [
    {
     "data": {
      "text/plain": [
       "Q        0\n",
       "A        0\n",
       "label    0\n",
       "dtype: int64"
      ]
     },
     "execution_count": 6,
     "metadata": {},
     "output_type": "execute_result"
    }
   ],
   "source": [
    "data.isnull().sum()"
   ]
  },
  {
   "cell_type": "code",
   "execution_count": 7,
   "id": "e5d1eda4",
   "metadata": {},
   "outputs": [
    {
     "name": "stdout",
     "output_type": "stream",
     "text": [
      "12시 땡!\n",
      "하루가 또 가네요.\n"
     ]
    }
   ],
   "source": [
    "print(data['Q'][0])\n",
    "print(data['A'][0])"
   ]
  },
  {
   "cell_type": "markdown",
   "id": "c105a6a4",
   "metadata": {},
   "source": [
    "<h2>02.데이터 전처리</h2>"
   ]
  },
  {
   "cell_type": "code",
   "execution_count": 8,
   "id": "fe2ce397",
   "metadata": {},
   "outputs": [],
   "source": [
    "# 전처리 함수\n",
    "def preprocess_sentence(sentence):\n",
    "  # 입력받은 sentence를 소문자로 변경하고 양쪽 공백을 제거\n",
    "  sentence = sentence.lower().strip()\n",
    "  sentence = re.sub(r\"([?.!,])\", r\" \\1 \", sentence) \n",
    "  #첫번째 인자는 찾고자 하는 패턴을 나타내며, 두번째 인자는 대체하고자 하는 문자열, 세 번째 인자는 대상 문자 \n",
    "  sentence = re.sub(r'[\" \"]+', \" \", sentence) #+는 앞의 패턴을 하나 이상 반복\n",
    "\n",
    "  # (한글 \".\", \"?\", \"!\", \",\")를 제외한 모든 문자를 공백인 ' '로 대체합니다.\n",
    "  sentence = re.sub(r\"[^가-힣?.!,]+\", \" \", sentence)\n",
    "\n",
    "  #문장 양 끝에 있는 공백을 제거\n",
    "  sentence = sentence.strip()\n",
    "  return sentence"
   ]
  },
  {
   "cell_type": "markdown",
   "id": "1780dabb",
   "metadata": {},
   "source": [
    "sentence = re.sub(r\"[^가-힣?.!,]+\", \" \", sentence)_한글 버전"
   ]
  },
  {
   "cell_type": "markdown",
   "id": "418b2b7a",
   "metadata": {},
   "source": [
    "sentence = re.sub(r\"[^a-zA-Z?.!,]+\", \" \", sentence)_영어버전"
   ]
  },
  {
   "cell_type": "markdown",
   "id": "fdb573b3",
   "metadata": {},
   "source": [
    "**앞의 첫번째 인자를 잘 살펴보고 수정하세요"
   ]
  },
  {
   "cell_type": "code",
   "execution_count": 9,
   "id": "2f43ffc8",
   "metadata": {},
   "outputs": [],
   "source": [
    "#질문과 답변의 쌍인 데이터 셋을 구성하기 위한 데이터 로드 함수\n",
    "def load_conversations():\n",
    "    questions, answers = [], []#질문과 답변의 쌍을 저장할 리스트\n",
    "    for q, a in zip(data['Q'], data['A']):\n",
    "        questions.append(preprocess_sentence(q))\n",
    "        answers.append(preprocess_sentence(a))\n",
    "        \n",
    "        if len(questions) >= len(data):\n",
    "            return questions, answers\n",
    "    return questions, answers"
   ]
  },
  {
   "cell_type": "code",
   "execution_count": 10,
   "id": "3cfa0f91",
   "metadata": {},
   "outputs": [
    {
     "name": "stdout",
     "output_type": "stream",
     "text": [
      "전체 샘플 수 : 11823\n",
      "전체 샘플 수 : 11823\n"
     ]
    }
   ],
   "source": [
    "questions, answers = load_conversations()\n",
    "print('전체 샘플 수 :', len(questions))\n",
    "print('전체 샘플 수 :', len(answers))"
   ]
  },
  {
   "cell_type": "markdown",
   "id": "57bd047d",
   "metadata": {},
   "source": [
    "<h2>02. 단어장(Vocabulary)만들기</h2>"
   ]
  },
  {
   "cell_type": "markdown",
   "id": "0d61aa2d",
   "metadata": {},
   "source": [
    "각 단어에 고유한 정수 인덱스를 부여하기 위해서 단어장(Vocabulary)를 만듭니다"
   ]
  },
  {
   "cell_type": "code",
   "execution_count": 11,
   "id": "2dbd5a0c",
   "metadata": {},
   "outputs": [],
   "source": [
    "tokenizer = tfds.deprecated.text.SubwordTextEncoder.build_from_corpus(questions + answers, target_vocab_size=2**13)"
   ]
  },
  {
   "cell_type": "code",
   "execution_count": 12,
   "id": "9fab6ed5",
   "metadata": {},
   "outputs": [],
   "source": [
    "# 시작 토큰과 종료 토큰에 고유한 정수를 부여합니다.\n",
    "START_TOKEN, END_TOKEN = [tokenizer.vocab_size], [tokenizer.vocab_size + 1]"
   ]
  },
  {
   "cell_type": "code",
   "execution_count": 13,
   "id": "97f377e8",
   "metadata": {},
   "outputs": [
    {
     "name": "stdout",
     "output_type": "stream",
     "text": [
      "START_TOKEN의 번호 : [8127]\n",
      "END_TOKEN의 번호 : [8128]\n"
     ]
    }
   ],
   "source": [
    "print('START_TOKEN의 번호 :' ,[tokenizer.vocab_size])\n",
    "print('END_TOKEN의 번호 :' ,[tokenizer.vocab_size + 1])"
   ]
  },
  {
   "cell_type": "markdown",
   "id": "b9208417",
   "metadata": {},
   "source": [
    "각각 298과 299라는 점에서 현재 단어장의 크기가 298(0번부터 297번)이라는 의미입니다."
   ]
  },
  {
   "cell_type": "code",
   "execution_count": 14,
   "id": "443c215a",
   "metadata": {},
   "outputs": [
    {
     "name": "stdout",
     "output_type": "stream",
     "text": [
      "8129\n"
     ]
    }
   ],
   "source": [
    "VOCAB_SIZE = tokenizer.vocab_size + 2 \n",
    "print(VOCAB_SIZE)"
   ]
  },
  {
   "cell_type": "markdown",
   "id": "9bab69f9",
   "metadata": {},
   "source": [
    "<h3>각 단어를 고유한 정수로 인코딩(integer encoding)&패딩(Padding)</h3>"
   ]
  },
  {
   "cell_type": "markdown",
   "id": "b3397767",
   "metadata": {},
   "source": [
    "tokenizer.encode()로 각 단어를 정수로 변환  \n",
    "tokenizer.decode()를 통해 정수 시퀀스를 단어 시퀀스로 변환"
   ]
  },
  {
   "cell_type": "code",
   "execution_count": 15,
   "id": "d5ea7149",
   "metadata": {},
   "outputs": [
    {
     "name": "stdout",
     "output_type": "stream",
     "text": [
      "정수 인코딩 후 11번째 질문 샘플: [685, 747]\n",
      "정수 인코딩 후 11번째 답변 샘플: [63, 517, 139, 3, 1]\n"
     ]
    }
   ],
   "source": [
    "print('정수 인코딩 후 11번째 질문 샘플: {}'.format(tokenizer.encode(questions[11])))\n",
    "print('정수 인코딩 후 11번째 답변 샘플: {}'.format(tokenizer.encode(answers[11])))"
   ]
  },
  {
   "cell_type": "markdown",
   "id": "44b21249",
   "metadata": {},
   "source": [
    "패딩을 위해 문장의 최대 길이를 설정  \n",
    "시각화를 통해 길이 분포 확인"
   ]
  },
  {
   "cell_type": "code",
   "execution_count": 16,
   "id": "4034e4fb",
   "metadata": {},
   "outputs": [
    {
     "name": "stdout",
     "output_type": "stream",
     "text": [
      "16\n",
      "24\n"
     ]
    },
    {
     "data": {
      "text/plain": [
       "Text(0.5, 1.0, 'answer length')"
      ]
     },
     "execution_count": 16,
     "metadata": {},
     "output_type": "execute_result"
    },
    {
     "data": {
      "image/png": "[encoded data removed]",
      "text/plain": [
       "<Figure size 864x360 with 1 Axes>"
      ]
     },
     "metadata": {
      "needs_background": "light"
     },
     "output_type": "display_data"
    },
    {
     "data": {
      "image/png": "[encoded data removed]",
      "text/plain": [
       "<Figure size 864x360 with 1 Axes>"
      ]
     },
     "metadata": {
      "needs_background": "light"
     },
     "output_type": "display_data"
    }
   ],
   "source": [
    "import matplotlib.pyplot as plt \n",
    "\n",
    "question_len = [len(s.split()) for s in questions]\n",
    "answer_len = [len(s.split()) for s in answers]\n",
    "\n",
    "print(max(question_len))\n",
    "print(max(answer_len))\n",
    "\n",
    "plt.figure(figsize=(12, 5))\n",
    "plt.hist(question_len)\n",
    "plt.title('question length')\n",
    "\n",
    "plt.figure(figsize=(12, 5))\n",
    "plt.hist(answer_len)\n",
    "plt.title('answer length')"
   ]
  },
  {
   "cell_type": "code",
   "execution_count": 17,
   "id": "dcad3afd",
   "metadata": {},
   "outputs": [
    {
     "name": "stdout",
     "output_type": "stream",
     "text": [
      "40\n"
     ]
    }
   ],
   "source": [
    "MAX_LENGTH = 40\n",
    "print(MAX_LENGTH)"
   ]
  },
  {
   "cell_type": "code",
   "execution_count": 18,
   "id": "74aeeb8b",
   "metadata": {},
   "outputs": [],
   "source": [
    "#정수 인코딩, 최대 길이를 초과하는 샘플 제거, 패딩\n",
    "def tokenize_and_filter(inputs, outputs):\n",
    "    tokenized_inputs, tokenized_outputs = [], []\n",
    "    \n",
    "    for (sentence1, sentence2) in zip(inputs, outputs):\n",
    "        #정수 인코딩 과정에서 시작 토큰과 종료 토큰을 추가\n",
    "        sentence1 = START_TOKEN + tokenizer.encode(sentence1) + END_TOKEN\n",
    "        sentence2 = START_TOKEN + tokenizer.encode(sentence2) + END_TOKEN\n",
    "        \n",
    "        #최대 길이 40 이하인 경우에만 데이터셋으로 허용\n",
    "        if len(sentence1) <= MAX_LENGTH and len(sentence2) <= MAX_LENGTH:\n",
    "            tokenized_inputs.append(sentence1)\n",
    "            tokenized_outputs.append(sentence2)\n",
    "            \n",
    "    #최대 길이 40으로 모든 데이터셋을 패딩    \n",
    "    tokenized_inputs = tf.keras.preprocessing.sequence.pad_sequences(tokenized_inputs, maxlen=MAX_LENGTH, padding='post')\n",
    "    tokenized_outputs = tf.keras.preprocessing.sequence.pad_sequences(tokenized_outputs, maxlen=MAX_LENGTH, padding='post')        \n",
    "\n",
    "    return tokenized_inputs, tokenized_outputs"
   ]
  },
  {
   "cell_type": "code",
   "execution_count": 19,
   "id": "a44fa030",
   "metadata": {},
   "outputs": [
    {
     "name": "stdout",
     "output_type": "stream",
     "text": [
      "단어장 크기: 8129\n",
      "필터링 후 질문 샘플 개수:11823\n",
      "필터링 후 답변 샘플 개수:11823\n"
     ]
    }
   ],
   "source": [
    "questions, answers = tokenize_and_filter(questions, answers)\n",
    "\n",
    "print('단어장 크기:', (VOCAB_SIZE))\n",
    "print('필터링 후 질문 샘플 개수:{}'.format(len(questions)))\n",
    "print('필터링 후 답변 샘플 개수:{}'.format(len(answers)))"
   ]
  },
  {
   "cell_type": "markdown",
   "id": "7d68eb40",
   "metadata": {},
   "source": [
    "<h3>교사 강요(Teacher Forcing)사용하기</h3>"
   ]
  },
  {
   "cell_type": "markdown",
   "id": "02eb4ee6",
   "metadata": {},
   "source": [
    "질문과 답변의 쌍을 tf.Data.Dataset의 입력으로 넣어주는 작업  \n",
    "이때, 디코더의 입력과 실제값(레이블)을 정의하기 위해 교사강요(Teacher Forcing) 사용  \n",
    "-> 데이터를 모델에 공급하기 전에 전처리 및 배치 처리를 수행하는 것"
   ]
  },
  {
   "cell_type": "code",
   "execution_count": 20,
   "id": "e30197a0",
   "metadata": {},
   "outputs": [],
   "source": [
    "BATCH_SIZE = 64 #모델을 한번에 처리할 샘플의 갯수\n",
    "BUFFER_SIZE = 20000 #데이터를 섞을 때 사용하는 버퍼 크기\n",
    "\n",
    "dataset = tf.data.Dataset.from_tensor_slices(( #함수를 사용하여 입력과 출력을 텐서로 변환\n",
    "    {'inputs': questions, #질문\n",
    "    'dec_inputs':answers[:, :-1]}, #답변의 일부분\n",
    "    {'outputs': answers[:, 1:]}  # START_TOKEN 제외\n",
    "))\n",
    "\n",
    "dataset = dataset.cache() #데이터가 메모리나 로컬 스토리지에 캐시되어 재사용\n",
    "dataset = dataset.shuffle(BUFFER_SIZE) #모델이 데이터셋의 순서에 의존하지 않도록 함\n",
    "dataset = dataset.batch(BATCH_SIZE)\n",
    "dataset = dataset.prefetch(tf.data.experimental.AUTOTUNE) #병목현상 방지"
   ]
  },
  {
   "cell_type": "markdown",
   "id": "60585fa5",
   "metadata": {},
   "source": [
    "<h2>03.Transformer모델 구현 및 학습</h2>"
   ]
  },
  {
   "cell_type": "code",
   "execution_count": 21,
   "id": "d504b988",
   "metadata": {},
   "outputs": [],
   "source": [
    "#포지셔널 인코딩 레이어\n",
    "class PositionalEncoding(tf.keras.layers.Layer):\n",
    "    \n",
    "    def __init__(self, position, d_model):\n",
    "        super(PositionalEncoding, self).__init__()\n",
    "        self.pos_encoding = self.positional_encoding(position, d_model)\n",
    "        \n",
    "    def get_angles(self, position, i, d_model):#각 위치에 대한 각도를 계산하는 메서드\n",
    "        angles = 1/tf.pow(10000, (2* (i//2))/ tf.cast(d_model, tf.float32))\n",
    "        return position * angles\n",
    "    \n",
    "    def positional_encoding(self, position, d_model):\n",
    "        angle_rads = self.get_angles(position=tf.range(position, dtype=tf.float32)[:, tf.newaxis],\n",
    "                                    i=tf.range(d_model, dtype=tf.float32)[tf.newaxis, :],\n",
    "                                    d_model=d_model)\n",
    "        sines = tf.math.sin(angle_rads[:, 0::2]) # 짝수 인덱스\n",
    "        cosines = tf.math.cos(angle_rads[:, 1::2]) # 홀수 인덱스\n",
    "        \n",
    "        pos_encoding = tf.concat([sines, cosines], axis= -1)\n",
    "        pos_encoding = pos_encoding[tf.newaxis, ...]\n",
    "        \n",
    "        return tf.cast(pos_encoding, tf.float32)\n",
    "    \n",
    "    def call(self, inputs):\n",
    "        return inputs + self.pos_encoding[:, :tf.shape(inputs)[1], :]"
   ]
  },
  {
   "cell_type": "code",
   "execution_count": 22,
   "id": "f3ff0629",
   "metadata": {},
   "outputs": [
    {
     "data": {
      "image/png": "[encoded data removed]",
      "text/plain": [
       "<Figure size 432x288 with 2 Axes>"
      ]
     },
     "metadata": {
      "needs_background": "light"
     },
     "output_type": "display_data"
    }
   ],
   "source": [
    "sample_pos_encoding = PositionalEncoding(50, 512)\n",
    "\n",
    "plt.pcolormesh(sample_pos_encoding.pos_encoding.numpy()[0], cmap='RdBu')\n",
    "plt.xlabel('Depth')\n",
    "plt.xlim((0, 512))\n",
    "plt.ylabel('Position')\n",
    "plt.colorbar()\n",
    "plt.show()"
   ]
  },
  {
   "cell_type": "markdown",
   "id": "255efede",
   "metadata": {},
   "source": [
    "이 함수는 주어진 query, key, value를 사용하여 어텐션 가중치를 계산하고 이를 적용하여 최종 어텐션 값을 반환"
   ]
  },
  {
   "cell_type": "code",
   "execution_count": 23,
   "id": "a522c4cd",
   "metadata": {},
   "outputs": [],
   "source": [
    "#스케일드 닷 프로덕트 어텐션 함수\n",
    "def scaled_dot_product_attention(query, key, value, mask):\n",
    "    matmul_qk = tf.matmul(query, key, transpose_b=True) #Query와 Key간의 행렬곱셈\n",
    "    \n",
    "    #가중치를 정규화\n",
    "    depth = tf.cast(tf.shape(key)[-1], tf.float32) #Key의 dim\n",
    "    logits = matmul_qk / tf.math.sqrt(depth) #제곱근을 적용하여 스케일 조정\n",
    "    \n",
    "    #패딩을 마스크 추가\n",
    "    if mask is not None:\n",
    "        logits += (mask * - 1e9)\n",
    "    \n",
    "    #softmax적용\n",
    "    attention_weights = tf.nn.softmax(logits, axis=-1)\n",
    "    #최종 어텐션은 가중치와 v의 닷 프로덕트\n",
    "    output = tf.matmul(attention_weights, value)\n",
    "    \n",
    "    return output"
   ]
  },
  {
   "cell_type": "markdown",
   "id": "9e1c70bd",
   "metadata": {},
   "source": [
    "<h5>패딩을 마스크에 추가하는 이유</h5>  \n",
    "모델의 학습 또는 추론 시에 패딩된 부분을 무시하기 위함  /\n",
    "어텐션 연산의 안정성을 유지하기 위함"
   ]
  },
  {
   "cell_type": "code",
   "execution_count": 24,
   "id": "f4f39589",
   "metadata": {},
   "outputs": [],
   "source": [
    "class MultiHeadAttention(tf.keras.layers.Layer):\n",
    "    \n",
    "    def __init__(self, d_model, num_heads, name='multi_head_attention'):\n",
    "        super(MultiHeadAttention, self).__init__(name=name)\n",
    "        self.num_heads = num_heads\n",
    "        self.d_model = d_model\n",
    "        \n",
    "        assert d_model % self.num_heads == 0 #입력을 여러 헤드로 나눔\n",
    "        \n",
    "        self.depth = d_model // self.num_heads\n",
    "        \n",
    "        self.query_dense = tf.keras.layers.Dense(units=d_model)\n",
    "        self.key_dense = tf.keras.layers.Dense(units=d_model)\n",
    "        self.value_dense = tf.keras.layers.Dense(units=d_model)\n",
    "        \n",
    "        self.dense = tf.keras.layers.Dense(units=d_model)\n",
    "    \n",
    "    def split_heads(self, inputs, batch_size):\n",
    "        inputs = tf.reshape(inputs, shape=(batch_size, -1, self.num_heads, self.depth))\n",
    "        return tf.transpose(inputs, perm=[0, 2, 1, 3])\n",
    "    \n",
    "    def call(self, inputs):\n",
    "        query, key, value, mask = inputs['query'], inputs['key'], inputs['value'], inputs['mask']\n",
    "        batch_size = tf.shape(query)[0]\n",
    "        \n",
    "        query = self.query_dense(query)\n",
    "        key = self.key_dense(key)\n",
    "        value = self.value_dense(value)\n",
    "        \n",
    "        query = self.split_heads(query, batch_size)\n",
    "        key = self.split_heads(key, batch_size)\n",
    "        value = self.split_heads(value, batch_size)\n",
    "        \n",
    "        scaled_attention = scaled_dot_product_attention(query, key, value, mask)\n",
    "        scaled_attention = tf.transpose(scaled_attention, perm=[0, 2, 1, 3])\n",
    "        \n",
    "        concat_attention = tf.reshape(scaled_attention, (batch_size, -1, self.d_model))\n",
    "        \n",
    "        outputs = self.dense(concat_attention)\n",
    "        \n",
    "        return outputs"
   ]
  },
  {
   "cell_type": "code",
   "execution_count": 25,
   "id": "18d5392f",
   "metadata": {},
   "outputs": [],
   "source": [
    "def create_padding_mask(x):\n",
    "    mask = tf.cast(tf.math.equal(x, 0), tf.float32)\n",
    "    return mask[:, tf.newaxis, tf.newaxis, :] # [batch_size, 1, 1, sequence_length]"
   ]
  },
  {
   "cell_type": "code",
   "execution_count": 26,
   "id": "30a307dc",
   "metadata": {},
   "outputs": [
    {
     "name": "stdout",
     "output_type": "stream",
     "text": [
      "tf.Tensor(\n",
      "[[[[0. 0. 1. 0. 1.]]]\n",
      "\n",
      "\n",
      " [[[1. 1. 1. 0. 0.]]]], shape=(2, 1, 1, 5), dtype=float32)\n"
     ]
    }
   ],
   "source": [
    "print(create_padding_mask(tf.constant([[1, 2, 0, 3, 0], [0, 0, 0, 4, 5]])))"
   ]
  },
  {
   "cell_type": "code",
   "execution_count": 27,
   "id": "20bb6b27",
   "metadata": {},
   "outputs": [],
   "source": [
    "def create_look_ahead_mask(x):\n",
    "    seq_len = tf.shape(x)[1]\n",
    "    look_ahead_mask = 1 - tf.linalg.band_part(tf.ones((seq_len, seq_len)), -1, 0)\n",
    "    padding_mask = create_padding_mask(x)\n",
    "    return tf.maximum(look_ahead_mask, padding_mask)"
   ]
  },
  {
   "cell_type": "code",
   "execution_count": 28,
   "id": "e28872c2",
   "metadata": {},
   "outputs": [
    {
     "name": "stdout",
     "output_type": "stream",
     "text": [
      "tf.Tensor(\n",
      "[[[[0. 1. 1. 1. 1.]\n",
      "   [0. 0. 1. 1. 1.]\n",
      "   [0. 0. 0. 1. 1.]\n",
      "   [0. 0. 0. 0. 1.]\n",
      "   [0. 0. 0. 0. 0.]]]], shape=(1, 1, 5, 5), dtype=float32)\n"
     ]
    }
   ],
   "source": [
    "print(create_look_ahead_mask(tf.constant([[1, 2, 3, 4, 5]])))"
   ]
  },
  {
   "cell_type": "code",
   "execution_count": 29,
   "id": "9f852e09",
   "metadata": {},
   "outputs": [
    {
     "name": "stdout",
     "output_type": "stream",
     "text": [
      "tf.Tensor(\n",
      "[[[[1. 1. 1. 1. 1.]\n",
      "   [1. 0. 1. 1. 1.]\n",
      "   [1. 0. 0. 1. 1.]\n",
      "   [1. 0. 0. 0. 1.]\n",
      "   [1. 0. 0. 0. 0.]]]], shape=(1, 1, 5, 5), dtype=float32)\n"
     ]
    }
   ],
   "source": [
    "print(create_look_ahead_mask(tf.constant([[0, 5, 1, 5, 5]])))"
   ]
  },
  {
   "cell_type": "code",
   "execution_count": 30,
   "id": "023503df",
   "metadata": {},
   "outputs": [],
   "source": [
    "def encoder_layer(units, d_model, num_heads, dropout, name='encoder_layer'):\n",
    "    #입력과 패딩 마스크를 받는 두 개의 입력을 정의\n",
    "    inputs = tf.keras.Input(shape=(None, d_model), name='inputs')\n",
    "    padding_mask = tf.keras.Input(shape=(1, 1, None), name='padding_mask')\n",
    "    \n",
    "    #MultiHeadAttention 레이어를 호출하여 Self-Attention을 수행\n",
    "    attention = MultiHeadAttention(d_model, num_heads, name='attention')({\n",
    "        'query':inputs, 'key':inputs, 'value':inputs, 'mask':padding_mask\n",
    "    })\n",
    "    \n",
    "    #어텐션 결과에 드롭아웃과 레이어 정규화를 적용하여 인코더 레이어의 첫 번째 출력 생성\n",
    "    attention = tf.keras.layers.Dropout(rate=dropout)(attention)\n",
    "    attention = tf.keras.layers.LayerNormalization(epsilon=1e-6)(inputs + attention)\n",
    "    \n",
    "    #Dense 레이어를 통해 출력의 차원을 조정\n",
    "    outputs = tf.keras.layers.Dense(units=units, activation='relu')(attention)\n",
    "    outputs = tf.keras.layers.Dense(units=d_model)(outputs)\n",
    "    \n",
    "    #다시 한 번 드롭 아웃과 레이어 정규화를 적용하고, 이를 이전의 어텐션 결과와 합하여 최종 출력을 생성\n",
    "    outputs = tf.keras.layers.Dropout(rate=dropout)(outputs)\n",
    "    outputs = tf.keras.layers.LayerNormalization(epsilon=1e-6)(attention + outputs)\n",
    "    \n",
    "    # 입력과 패딩 마스크를 받아서 Self-Attention을 수행하고, 그 결과를 활용하여 레이어를 통과시키는 방식으로 인코더 레이어를 구성\n",
    "    return tf.keras.Model(inputs=[inputs, padding_mask], outputs=outputs, name=name)"
   ]
  },
  {
   "cell_type": "code",
   "execution_count": 40,
   "id": "1b20ff32",
   "metadata": {},
   "outputs": [],
   "source": [
    "def encoder(vocab_size, num_layers, units, d_model, num_heads, dropout, name='encoder'):\n",
    "    # 입력과 패딩 마스크를 받는 두 개의 입력을 정의\n",
    "    inputs = tf.keras.Input(shape=(None,), name='inputs')\n",
    "    padding_mask = tf.keras.Input(shape=(1, 1, None), name='padding_mask')\n",
    "    \n",
    "    # 입력을 임베딩하여 모델의 차원에 맞게 변환\n",
    "    embeddings = tf.keras.layers.Embedding(vocab_size, d_model)(inputs)\n",
    "    embeddings *= tf.math.sqrt(tf.cast(d_model, tf.float32))\n",
    "    \n",
    "    # 위치 인코딩을 추가\n",
    "    embeddings = PositionalEncoding(vocab_size, d_model)(embeddings)\n",
    "                                \n",
    "    outputs = tf.keras.layers.Dropout(rate=dropout)(embeddings)\n",
    "                                \n",
    "    for i in range(num_layers):\n",
    "        outputs = encoder_layer(units=units, d_model=d_model, num_heads=num_heads, dropout=dropout, name='encoder_layer_{}'.format(i),)([outputs, padding_mask])\n",
    "    \n",
    "    return tf.keras.Model(inputs=[inputs, padding_mask], outputs=outputs, name=name)\n",
    "                                \n",
    "                                "
   ]
  },
  {
   "cell_type": "code",
   "execution_count": 41,
   "id": "22c0941b",
   "metadata": {},
   "outputs": [],
   "source": [
    "def decoder_layer(units, d_model, num_heads, dropout, name='decoder_layer'):\n",
    "    #네 개의 입력을 받는 디코더 레이어를 정의\n",
    "    inputs = tf.keras.Input(shape=(None, d_model), name='inputs')\n",
    "    enc_outputs = tf.keras.Input(shape=(None, d_model), name='encoder_outputs')\n",
    "    look_ahead_mask = tf.keras.Input(shape=(1, None, None), name='look_ahead_mask')\n",
    "    padding_mask = tf.keras.Input(shape=(1, 1, None), name='padding_mask')\n",
    "    \n",
    "    #첫 번째 멀티 헤드 어텐션 : Self attentaion\n",
    "    attention1 = MultiHeadAttention(d_model, num_heads, name='attention_1')(inputs={\n",
    "        'query':inputs, 'key':inputs, 'value':inputs, 'mask':look_ahead_mask\n",
    "    })\n",
    "    attention1 = tf.keras.layers.LayerNormalization(epsilon=1e-6)(attention1 + inputs)\n",
    "    \n",
    "    #두 번째 멀티 헤드 어텐션: Encoder-Decoder Attention\n",
    "    attention2 = MultiHeadAttention(d_model, num_heads, name='attention_2')(inputs={\n",
    "        'query':attention1, 'key':enc_outputs, 'value':enc_outputs, 'mask':padding_mask\n",
    "    })\n",
    "    attention2 = tf.keras.layers.Dropout(rate=dropout)(attention2)\n",
    "    attention2 = tf.keras.layers.LayerNormalization(epsilon=1e-6)(attention2 + attention1)\n",
    "    \n",
    "    #포지션 와이즈 피드 포워드 신경망\n",
    "    outputs = tf.keras.layers.Dense(units=units, activation='relu')(attention2)\n",
    "    outputs = tf.keras.layers.Dense(units=d_model)(outputs)\n",
    "    \n",
    "    #드롭아웃과 레이어 정규화를 적용\n",
    "    outputs = tf.keras.layers.Dropout(rate=dropout)(outputs)\n",
    "    outputs = tf.keras.layers.LayerNormalization(epsilon=1e-6)(outputs + attention2)\n",
    "    \n",
    "    return tf.keras.Model(inputs=[inputs, enc_outputs, look_ahead_mask, padding_mask], outputs=outputs, name=name)"
   ]
  },
  {
   "cell_type": "code",
   "execution_count": 42,
   "id": "b72bc1c2",
   "metadata": {},
   "outputs": [],
   "source": [
    "#디코더 구현\n",
    "def decoder(vocab_size, num_layers, units, d_model,num_heads, dropout, name='decoder'):\n",
    "    #네 개의 입력을 맏는 디코더 모델을 정의\n",
    "    inputs = tf.keras.Input(shape=(None,), name='inputs')\n",
    "    enc_outputs = tf.keras.Input(shape=(None, d_model), name='encoder_outputs')\n",
    "    look_ahead_mask = tf.keras.Input(shape=(1, None, None), name='look_ahead_mask')\n",
    "    padding_mask = tf.keras.Input(shape=(1, 1, None), name='padding_mask')\n",
    "    \n",
    "    #입력을 임베딩하고, 위치 인코딩을 추가\n",
    "    embeddings = tf.keras.layers.Embedding(vocab_size, d_model)(inputs)\n",
    "    embeddings *= tf.math.sqrt(tf.cast(d_model, tf.float32))\n",
    "    \n",
    "    embeddings = PositionalEncoding(vocab_size, d_model)(embeddings)\n",
    "    \n",
    "    outputs = tf.keras.layers.Dropout(rate=dropout)(embeddings)\n",
    "    \n",
    "    for i in range(num_layers):\n",
    "        outputs = decoder_layer(units=units, d_model=d_model, num_heads=num_heads, dropout=dropout, name='decoder_layer_{}'.format(i),)(inputs=[outputs, enc_outputs, look_ahead_mask, padding_mask])\n",
    "    \n",
    "    return tf.keras.Model(inputs=[inputs, enc_outputs, look_ahead_mask, padding_mask], outputs=outputs, name=name)"
   ]
  },
  {
   "cell_type": "code",
   "execution_count": 43,
   "id": "9a2b3299",
   "metadata": {},
   "outputs": [],
   "source": [
    "def transformer(vocab_size, num_layers,\n",
    "               units, d_model, num_heads, dropout, name='transformer'):\n",
    "    inputs = tf.keras.Input(shape=(None,), name='inputs')\n",
    "    dec_inputs = tf.keras.Input(shape=(None,), name='dec_inputs')\n",
    "    # encoder에서 패딩 마스크\n",
    "    enc_padding_mask = tf.keras.layers.Lambda(create_padding_mask, output_shape=(1, 1, None), name='enc_padding_mask')(inputs)\n",
    "    # decoder에서 미래 토큰 마스크, 패딩 마스크\n",
    "    look_ahead_mask = tf.keras.layers.Lambda(create_look_ahead_mask, output_shape=(1, None, None), name='look_ahead_mask')(dec_inputs)\n",
    "    # 두번째 어텐션 블록에서 encoder의 벡터들을 마스킹, decoder에서 패딩 마스크\n",
    "    dec_padding_mask = tf.keras.layers.Lambda(create_padding_mask, output_shape=(1, 1, None), name='dec_padding_mask')(inputs)\n",
    "    \n",
    "    # encoder\n",
    "    enc_outputs = encoder(vocab_size=vocab_size, num_layers=num_layers, units=units, d_model=d_model, num_heads=num_heads, dropout=dropout)(inputs=[inputs, enc_padding_mask])\n",
    "    # decoder\n",
    "    dec_outputs = decoder(vocab_size=vocab_size, num_layers=num_layers, units=units, d_model=d_model, num_heads=num_heads, dropout=dropout)(inputs=[dec_inputs, enc_outputs, look_ahead_mask, dec_padding_mask])\n",
    "    \n",
    "    # dense layer\n",
    "    outputs = tf.keras.layers.Dense(units=vocab_size, name='outputs')(dec_outputs)\n",
    "    \n",
    "    return tf.keras.Model(inputs=[inputs, dec_inputs], outputs=outputs, name=name)"
   ]
  },
  {
   "cell_type": "code",
   "execution_count": 44,
   "id": "ea3958df",
   "metadata": {},
   "outputs": [
    {
     "name": "stdout",
     "output_type": "stream",
     "text": [
      "Model: \"transformer\"\n",
      "__________________________________________________________________________________________________\n",
      "Layer (type)                    Output Shape         Param #     Connected to                     \n",
      "==================================================================================================\n",
      "inputs (InputLayer)             [(None, None)]       0                                            \n",
      "__________________________________________________________________________________________________\n",
      "dec_inputs (InputLayer)         [(None, None)]       0                                            \n",
      "__________________________________________________________________________________________________\n",
      "enc_padding_mask (Lambda)       (None, 1, 1, None)   0           inputs[0][0]                     \n",
      "__________________________________________________________________________________________________\n",
      "encoder (Functional)            (None, None, 256)    3135232     inputs[0][0]                     \n",
      "                                                                 enc_padding_mask[0][0]           \n",
      "__________________________________________________________________________________________________\n",
      "look_ahead_mask (Lambda)        (None, 1, None, None 0           dec_inputs[0][0]                 \n",
      "__________________________________________________________________________________________________\n",
      "dec_padding_mask (Lambda)       (None, 1, 1, None)   0           inputs[0][0]                     \n",
      "__________________________________________________________________________________________________\n",
      "decoder (Functional)            (None, None, 256)    3662592     dec_inputs[0][0]                 \n",
      "                                                                 encoder[0][0]                    \n",
      "                                                                 look_ahead_mask[0][0]            \n",
      "                                                                 dec_padding_mask[0][0]           \n",
      "__________________________________________________________________________________________________\n",
      "outputs (Dense)                 (None, None, 8129)   2089153     decoder[0][0]                    \n",
      "==================================================================================================\n",
      "Total params: 8,886,977\n",
      "Trainable params: 8,886,977\n",
      "Non-trainable params: 0\n",
      "__________________________________________________________________________________________________\n"
     ]
    }
   ],
   "source": [
    "tf.keras.backend.clear_session()\n",
    "\n",
    "NUM_LAYERS = 2  # encoder, decoder의 층 개수\n",
    "D_MODEL = 256   # encoder, decoder 내부의 입/출력 고정 차원\n",
    "NUM_HEADS = 8   # 멀티 헤드 어텐션의 헤드 수 \n",
    "UNITS = 512     # feed forward 신경망 은닉층의 크기\n",
    "DROPOUT = 0.1\n",
    "\n",
    "model = transformer(vocab_size=VOCAB_SIZE, \n",
    "                   num_layers=NUM_LAYERS,\n",
    "                   d_model=D_MODEL,\n",
    "                   num_heads=NUM_HEADS,\n",
    "                   units=UNITS,\n",
    "                   dropout=DROPOUT)\n",
    "\n",
    "model.summary()"
   ]
  },
  {
   "cell_type": "markdown",
   "id": "2a819469",
   "metadata": {},
   "source": [
    "<h2>04. 손실 함수(Loss function)</h2>"
   ]
  },
  {
   "cell_type": "code",
   "execution_count": 45,
   "id": "01ad3e32",
   "metadata": {},
   "outputs": [],
   "source": [
    "def loss_function(y_true, y_pred):\n",
    "    #y_true를 모델의 예측 shape에 맞게 재구성\n",
    "    y_true = tf.reshape(y_true, shape=(-1, MAX_LENGTH-1))\n",
    "    \n",
    "    #Sparse Categorical Crossentropy를 사용하여 손실을 계산\n",
    "    loss = tf.keras.losses.SparseCategoricalCrossentropy(from_logits=True, reduction='none')(y_true, y_pred)\n",
    "    \n",
    "    # 패딩이 아닌 부분에 대해서만 손실을 계산하도록 마스크를 적용\n",
    "    mask = tf.cast(tf.not_equal(y_true, 0), tf.float32)\n",
    "    loss = tf.multiply(loss, mask)\n",
    "    \n",
    "    return tf.reduce_mean(loss)"
   ]
  },
  {
   "cell_type": "markdown",
   "id": "ffa57612",
   "metadata": {},
   "source": [
    "주의! 손실 함수는 트랜스포머 모델에서 사용되며, 패딩된 부분은 손실에 반영되지 않도록 한다"
   ]
  },
  {
   "cell_type": "code",
   "execution_count": 46,
   "id": "6aa11ba0",
   "metadata": {},
   "outputs": [],
   "source": [
    "class CustomSchedule(tf.keras.optimizers.schedules.LearningRateSchedule):\n",
    "    \n",
    "    def __init__(self, d_model, warmup_steps=4000):\n",
    "        super(CustomSchedule, self).__init__()\n",
    "        \n",
    "        self.d_model = d_model\n",
    "        self.d_model = tf.cast(self.d_model, tf.float32)\n",
    "        \n",
    "        self.warmup_steps = warmup_steps\n",
    "        \n",
    "    def __call__(self, step):\n",
    "        arg1 = tf.math.rsqrt(step)\n",
    "        arg2 = step * (self.warmup_steps**-1.5)\n",
    "        \n",
    "        return tf.math.rsqrt(self.d_model) * tf.math.minimum(arg1, arg2)"
   ]
  },
  {
   "cell_type": "code",
   "execution_count": 47,
   "id": "c86a2ada",
   "metadata": {},
   "outputs": [
    {
     "data": {
      "text/plain": [
       "Text(0.5, 0, 'Train Step')"
      ]
     },
     "execution_count": 47,
     "metadata": {},
     "output_type": "execute_result"
    },
    {
     "data": {
      "image/png": "[encoded data removed]",
      "text/plain": [
       "<Figure size 432x288 with 1 Axes>"
      ]
     },
     "metadata": {
      "needs_background": "light"
     },
     "output_type": "display_data"
    }
   ],
   "source": [
    "sample_learning_rate = CustomSchedule(d_model=128)\n",
    "\n",
    "plt.plot(sample_learning_rate(tf.range(200000, dtype=tf.float32)))\n",
    "plt.ylabel('Learning Rate')\n",
    "plt.xlabel('Train Step')"
   ]
  },
  {
   "cell_type": "code",
   "execution_count": 48,
   "id": "be6f1b94",
   "metadata": {},
   "outputs": [],
   "source": [
    "learning_rate = CustomSchedule(D_MODEL)\n",
    "\n",
    "optimizer = tf.keras.optimizers.Adam(learning_rate, beta_1=0.9, beta_2=0.98, epsilon=1e-9)\n",
    "\n",
    "def accuracy(y_true, y_pred):\n",
    "    y_true = tf.reshape(y_true, shape=(-1, MAX_LENGTH -1))\n",
    "    return tf.keras.metrics.sparse_categorical_accuracy(y_true, y_pred)\n",
    "\n",
    "model.compile(optimizer=optimizer, loss=loss_function, metrics=[accuracy])"
   ]
  },
  {
   "cell_type": "code",
   "execution_count": 55,
   "id": "b5d6965b",
   "metadata": {},
   "outputs": [
    {
     "name": "stdout",
     "output_type": "stream",
     "text": [
      "Epoch 1/40\n",
      "185/185 [==============================] - 10s 55ms/step - loss: 0.0429 - accuracy: 0.1648\n",
      "Epoch 2/40\n",
      "185/185 [==============================] - 10s 55ms/step - loss: 0.0411 - accuracy: 0.1649\n",
      "Epoch 3/40\n",
      "185/185 [==============================] - 10s 55ms/step - loss: 0.0373 - accuracy: 0.1657\n",
      "Epoch 4/40\n",
      "185/185 [==============================] - 10s 56ms/step - loss: 0.0319 - accuracy: 0.1671\n",
      "Epoch 5/40\n",
      "185/185 [==============================] - 10s 55ms/step - loss: 0.0283 - accuracy: 0.1680\n",
      "Epoch 6/40\n",
      "185/185 [==============================] - 10s 55ms/step - loss: 0.0255 - accuracy: 0.1685\n",
      "Epoch 7/40\n",
      "185/185 [==============================] - 10s 55ms/step - loss: 0.0227 - accuracy: 0.1692\n",
      "Epoch 8/40\n",
      "185/185 [==============================] - 10s 55ms/step - loss: 0.0208 - accuracy: 0.1698\n",
      "Epoch 9/40\n",
      "185/185 [==============================] - 10s 55ms/step - loss: 0.0189 - accuracy: 0.1702\n",
      "Epoch 10/40\n",
      "185/185 [==============================] - 10s 55ms/step - loss: 0.0172 - accuracy: 0.1706\n",
      "Epoch 11/40\n",
      "185/185 [==============================] - 10s 55ms/step - loss: 0.0157 - accuracy: 0.1711\n",
      "Epoch 12/40\n",
      "185/185 [==============================] - 10s 55ms/step - loss: 0.0146 - accuracy: 0.1715\n",
      "Epoch 13/40\n",
      "185/185 [==============================] - 10s 55ms/step - loss: 0.0142 - accuracy: 0.1716\n",
      "Epoch 14/40\n",
      "185/185 [==============================] - 10s 55ms/step - loss: 0.0125 - accuracy: 0.1719\n",
      "Epoch 15/40\n",
      "185/185 [==============================] - 10s 55ms/step - loss: 0.0121 - accuracy: 0.1720\n",
      "Epoch 16/40\n",
      "185/185 [==============================] - 10s 55ms/step - loss: 0.0112 - accuracy: 0.1722\n",
      "Epoch 17/40\n",
      "185/185 [==============================] - 10s 55ms/step - loss: 0.0108 - accuracy: 0.1723\n",
      "Epoch 18/40\n",
      "185/185 [==============================] - 10s 55ms/step - loss: 0.0102 - accuracy: 0.1725\n",
      "Epoch 19/40\n",
      "185/185 [==============================] - 10s 55ms/step - loss: 0.0096 - accuracy: 0.1726\n",
      "Epoch 20/40\n",
      "185/185 [==============================] - 10s 55ms/step - loss: 0.0093 - accuracy: 0.1727\n",
      "Epoch 21/40\n",
      "185/185 [==============================] - 10s 55ms/step - loss: 0.0085 - accuracy: 0.1729\n",
      "Epoch 22/40\n",
      "185/185 [==============================] - 10s 55ms/step - loss: 0.0084 - accuracy: 0.1730\n",
      "Epoch 23/40\n",
      "185/185 [==============================] - 10s 55ms/step - loss: 0.0080 - accuracy: 0.1730\n",
      "Epoch 24/40\n",
      "185/185 [==============================] - 10s 55ms/step - loss: 0.0077 - accuracy: 0.1731\n",
      "Epoch 25/40\n",
      "185/185 [==============================] - 10s 55ms/step - loss: 0.0069 - accuracy: 0.1733\n",
      "Epoch 26/40\n",
      "185/185 [==============================] - 10s 55ms/step - loss: 0.0070 - accuracy: 0.1733\n",
      "Epoch 27/40\n",
      "185/185 [==============================] - 10s 55ms/step - loss: 0.0064 - accuracy: 0.1734\n",
      "Epoch 28/40\n",
      "185/185 [==============================] - 10s 55ms/step - loss: 0.0063 - accuracy: 0.1733\n",
      "Epoch 29/40\n",
      "185/185 [==============================] - 10s 55ms/step - loss: 0.0060 - accuracy: 0.1735\n",
      "Epoch 30/40\n",
      "185/185 [==============================] - 10s 55ms/step - loss: 0.0062 - accuracy: 0.1735\n",
      "Epoch 31/40\n",
      "185/185 [==============================] - 10s 55ms/step - loss: 0.0056 - accuracy: 0.1736\n",
      "Epoch 32/40\n",
      "185/185 [==============================] - 10s 55ms/step - loss: 0.0058 - accuracy: 0.1735\n",
      "Epoch 33/40\n",
      "185/185 [==============================] - 10s 55ms/step - loss: 0.0054 - accuracy: 0.1737\n",
      "Epoch 34/40\n",
      "185/185 [==============================] - 10s 55ms/step - loss: 0.0052 - accuracy: 0.1737\n",
      "Epoch 35/40\n",
      "185/185 [==============================] - 10s 54ms/step - loss: 0.0054 - accuracy: 0.1737\n",
      "Epoch 36/40\n",
      "185/185 [==============================] - 10s 55ms/step - loss: 0.0051 - accuracy: 0.1737\n",
      "Epoch 37/40\n",
      "185/185 [==============================] - 10s 55ms/step - loss: 0.0049 - accuracy: 0.1737\n",
      "Epoch 38/40\n",
      "185/185 [==============================] - 10s 55ms/step - loss: 0.0047 - accuracy: 0.1738\n",
      "Epoch 39/40\n",
      "185/185 [==============================] - 10s 55ms/step - loss: 0.0045 - accuracy: 0.1738\n",
      "Epoch 40/40\n",
      "185/185 [==============================] - 10s 55ms/step - loss: 0.0046 - accuracy: 0.1738\n"
     ]
    }
   ],
   "source": [
    "EPOCHS = 40\n",
    "history = model.fit(dataset, epochs=EPOCHS, verbose=1)"
   ]
  },
  {
   "cell_type": "code",
   "execution_count": 56,
   "id": "f1ca0ea9",
   "metadata": {},
   "outputs": [
    {
     "data": {
      "image/png": "[encoded data removed]",
      "text/plain": [
       "<Figure size 432x288 with 1 Axes>"
      ]
     },
     "metadata": {
      "needs_background": "light"
     },
     "output_type": "display_data"
    },
    {
     "data": {
      "image/png": "[encoded data removed]",
      "text/plain": [
       "<Figure size 432x288 with 1 Axes>"
      ]
     },
     "metadata": {
      "needs_background": "light"
     },
     "output_type": "display_data"
    }
   ],
   "source": [
    "import matplotlib.pyplot as plt\n",
    "\n",
    "plt.plot(history.history['accuracy'])\n",
    "plt.title('model accuracy')\n",
    "plt.ylabel('accuracy')\n",
    "plt.xlabel('epoch')\n",
    "plt.legend(['train'], loc='upper left')\n",
    "plt.show()\n",
    "# summarize history for loss\n",
    "plt.plot(history.history['loss'])\n",
    "plt.title('model loss')\n",
    "plt.ylabel('loss')\n",
    "plt.xlabel('epoch')\n",
    "plt.legend(['train'], loc='upper left')\n",
    "plt.show()"
   ]
  },
  {
   "cell_type": "markdown",
   "id": "26d61480",
   "metadata": {},
   "source": [
    "<h2>05.모델평가</h2>"
   ]
  },
  {
   "cell_type": "code",
   "execution_count": 57,
   "id": "1e04585f",
   "metadata": {},
   "outputs": [],
   "source": [
    "def decoder_inference(sentence):\n",
    "    sentence = preprocess_sentence(sentence)\n",
    "    \n",
    "    sentence = tf.expand_dims(START_TOKEN + tokenizer.encode(sentence) + END_TOKEN, axis=0)\n",
    "    \n",
    "    output_sequence = tf.expand_dims(START_TOKEN, 0)\n",
    "    \n",
    "    for i in range(MAX_LENGTH):\n",
    "        predictions = model(inputs=[sentence, output_sequence], training=False)\n",
    "        predictions = predictions[:, -1:, :]\n",
    "        \n",
    "        predicted_id = tf.cast(tf.argmax(predictions, axis=-1), tf.int32)\n",
    "        \n",
    "        if tf.equal(predicted_id, END_TOKEN[0]):\n",
    "            break\n",
    "            \n",
    "        output_sequence = tf.concat([output_sequence, predicted_id], axis=-1)\n",
    "        \n",
    "    return tf.squeeze(output_sequence, axis=0)"
   ]
  },
  {
   "cell_type": "code",
   "execution_count": 58,
   "id": "1b6b2a72",
   "metadata": {},
   "outputs": [],
   "source": [
    "def sentence_generation(sentence):\n",
    "    prediction = decoder_inference(sentence)\n",
    "    predicted_sentence = tokenizer.decode([i for i in prediction if i < tokenizer.vocab_size])\n",
    "    \n",
    "    print('입력 : {}'.format(sentence))\n",
    "    print('출력 : {}'.format(predicted_sentence))    \n",
    "    \n",
    "    return predicted_sentence"
   ]
  },
  {
   "cell_type": "code",
   "execution_count": 64,
   "id": "56efe85f",
   "metadata": {},
   "outputs": [
    {
     "name": "stdout",
     "output_type": "stream",
     "text": [
      "입력 : 잠이 와\n",
      "출력 : 일찍 주무세요 .\n"
     ]
    },
    {
     "data": {
      "text/plain": [
       "'일찍 주무세요 .'"
      ]
     },
     "execution_count": 64,
     "metadata": {},
     "output_type": "execute_result"
    }
   ],
   "source": [
    "sentence_generation('잠이 와')"
   ]
  },
  {
   "cell_type": "code",
   "execution_count": 60,
   "id": "945090ca",
   "metadata": {},
   "outputs": [
    {
     "name": "stdout",
     "output_type": "stream",
     "text": [
      "입력 : 기분 좋아\n",
      "출력 : 저도 좋아요 .\n"
     ]
    },
    {
     "data": {
      "text/plain": [
       "'저도 좋아요 .'"
      ]
     },
     "execution_count": 60,
     "metadata": {},
     "output_type": "execute_result"
    }
   ],
   "source": [
    "sentence_generation('기분 좋아')"
   ]
  },
  {
   "cell_type": "code",
   "execution_count": 61,
   "id": "61277668",
   "metadata": {},
   "outputs": [
    {
     "name": "stdout",
     "output_type": "stream",
     "text": [
      "입력 : 너무 추워\n",
      "출력 : 따듯한 차 한잔 어때요 ?\n"
     ]
    },
    {
     "data": {
      "text/plain": [
       "'따듯한 차 한잔 어때요 ?'"
      ]
     },
     "execution_count": 61,
     "metadata": {},
     "output_type": "execute_result"
    }
   ],
   "source": [
    "sentence_generation('너무 추워')"
   ]
  },
  {
   "cell_type": "code",
   "execution_count": 62,
   "id": "0684193c",
   "metadata": {},
   "outputs": [
    {
     "name": "stdout",
     "output_type": "stream",
     "text": [
      "입력 : 게임하고 싶다\n",
      "출력 : 게임하세요 !\n"
     ]
    },
    {
     "data": {
      "text/plain": [
       "'게임하세요 !'"
      ]
     },
     "execution_count": 62,
     "metadata": {},
     "output_type": "execute_result"
    }
   ],
   "source": [
    "sentence_generation('게임하고 싶다')"
   ]
  },
  {
   "cell_type": "code",
   "execution_count": 63,
   "id": "1bfbc39d",
   "metadata": {},
   "outputs": [
    {
     "name": "stdout",
     "output_type": "stream",
     "text": [
      "입력 : 커피 한잔 할래?\n",
      "출력 : 한 잔 하기 좋은 날이네요 .\n"
     ]
    },
    {
     "data": {
      "text/plain": [
       "'한 잔 하기 좋은 날이네요 .'"
      ]
     },
     "execution_count": 63,
     "metadata": {},
     "output_type": "execute_result"
    }
   ],
   "source": [
    "sentence_generation('커피 한잔 할래?')"
   ]
  },
  {
   "cell_type": "markdown",
   "id": "e1aee3d9",
   "metadata": {},
   "source": [
    "<h3>회고</h3>"
   ]
  },
  {
   "cell_type": "markdown",
   "id": "be4fcf60",
   "metadata": {},
   "source": [
    "처음에 물어보는 말에 이상한 답변만해서 epoch를 조정하면서 적절한 수치를 찾았는데 너무 높게한다고 성능이 무조건 좋아지지는 않아서 적절하게 40으로 결정하였다.\n",
    "그리고 chatgpt에 비하면 별로 못하지만 그래도 이렇게 챗봇을 직접 제작해보니 무언가 하나를 성취한 듯하여 기분은 좋다고 할 수 있다. 다만 아쉬운 점이 있다면 좀더 완벽하게 대답할 수 있는 챗봇을 만들고 싶었는데 그게 안되서 아쉬운 것 같고 앞으로 accuracy를 볼 때는 항상 그래프를 그리면서 보는게 훨씬 가독성이 있고 문제점을 찾기 쉽다는 것 또한 깨달았다. 수치만 보게되면 어디서 어떻게 잘못되었는지는 알기 쉽지 않기 때문이다. 이번 노드 내용이 이해가 되지 않기 때문에 좀더 인터넷에 찾아보고 알아봐야겠다"
   ]
  },
  {
   "cell_type": "code",
   "execution_count": null,
   "id": "3dfd6a4e",
   "metadata": {},
   "outputs": [],
   "source": []
  }
 ],
 "metadata": {
  "kernelspec": {
   "display_name": "Python 3 (ipykernel)",
   "language": "python",
   "name": "python3"
  },
  "language_info": {
   "codemirror_mode": {
    "name": "ipython",
    "version": 3
   },
   "file_extension": ".py",
   "mimetype": "text/x-python",
   "name": "python",
   "nbconvert_exporter": "python",
   "pygments_lexer": "ipython3",
   "version": "3.9.7"
  }
 },
 "nbformat": 4,
 "nbformat_minor": 5
}
